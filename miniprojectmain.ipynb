{
  "nbformat": 4,
  "nbformat_minor": 0,
  "metadata": {
    "colab": {
      "provenance": []
    },
    "kernelspec": {
      "name": "python3",
      "display_name": "Python 3"
    },
    "language_info": {
      "name": "python"
    }
  },
  "cells": [
    {
      "cell_type": "code",
      "execution_count": null,
      "metadata": {
        "colab": {
          "base_uri": "https://localhost:8080/",
          "height": 423
        },
        "id": "rSbMj49_BzN5",
        "outputId": "e40661be-3858-4a11-8a55-4e0970442f7a"
      },
      "outputs": [
        {
          "output_type": "stream",
          "name": "stdout",
          "text": [
            "Random valid pattern: [7, 3, 2, 4, 6]\n"
          ]
        },
        {
          "output_type": "display_data",
          "data": {
            "text/plain": [
              "<Figure size 640x480 with 1 Axes>"
            ],
            "image/png": "[encoded data removed]"
          },
          "metadata": {}
        }
      ],
      "source": [
        "import numpy as np\n",
        "import matplotlib.pyplot as plt\n",
        "import random\n",
        "\n",
        "jumps = {\n",
        "    (0, 2): 1, (2, 0): 1, (0, 6): 3, (6, 0): 3,\n",
        "    (2, 8): 5, (8, 2): 5, (6, 8): 7, (8, 6): 7,\n",
        "    (0, 8): 4, (8, 0): 4, (2, 6): 4, (6, 2): 4,\n",
        "    (1, 7): 4, (7, 1): 4, (3, 5): 4, (5, 3): 4,\n",
        "}\n",
        "\n",
        "def is_valid_move(a, b, used):\n",
        "    if b in used:\n",
        "        return False\n",
        "    if (a, b) in jumps and jumps[(a, b)] not in used:\n",
        "        return False\n",
        "    return True\n",
        "\n",
        "def generate_random_pattern(length):\n",
        "    pattern = []\n",
        "    used = set()\n",
        "    current = random.randint(0, 8)\n",
        "    pattern.append(current)\n",
        "    used.add(current)\n",
        "\n",
        "    while len(pattern) < length:\n",
        "        possible_moves = [next_node for next_node in range(9)\n",
        "                         if is_valid_move(current, next_node, used)]\n",
        "        if not possible_moves:\n",
        "            break\n",
        "        current = random.choice(possible_moves)\n",
        "        pattern.append(current)\n",
        "        used.add(current)\n",
        "    return pattern\n",
        "\n",
        "def draw_pattern(pattern):\n",
        "    coords = np.array([[0, 2], [1, 2], [2, 2], [0, 1], [1, 1],\n",
        "                      [2, 1], [0, 0], [1, 0], [2, 0]])\n",
        "    fig, ax = plt.subplots()\n",
        "    ax.set_aspect('equal')\n",
        "    ax.set_xlim(-0.5, 2.5)\n",
        "    ax.set_ylim(-0.5, 2.5)\n",
        "    ax.axis('off')\n",
        "\n",
        "    for i, (x, y) in enumerate(coords):\n",
        "        ax.plot(x, y, 'o', markersize=20, color='lightgray')\n",
        "        ax.text(x, y, str(i), color='black', fontsize=12, ha='center', va='center')\n",
        "\n",
        "    for i in range(len(pattern)-1):\n",
        "        start, end = coords[pattern[i]], coords[pattern[i+1]]\n",
        "\n",
        "        ax.plot([start[0], end[0]], [start[1], end[1]], 'r-', linewidth=2)\n",
        "\n",
        "    ax.plot(*coords[pattern[0]], 'o', markersize=20, color='green')\n",
        "    plt.show()\n",
        "\n",
        "random_pattern = generate_random_pattern(5)\n",
        "print(\"Random valid pattern:\", random_pattern)\n",
        "draw_pattern(random_pattern)"
      ]
    },
    {
      "cell_type": "code",
      "source": [],
      "metadata": {
        "id": "MSlmlYRkB0b8"
      },
      "execution_count": null,
      "outputs": []
    }
  ]
}